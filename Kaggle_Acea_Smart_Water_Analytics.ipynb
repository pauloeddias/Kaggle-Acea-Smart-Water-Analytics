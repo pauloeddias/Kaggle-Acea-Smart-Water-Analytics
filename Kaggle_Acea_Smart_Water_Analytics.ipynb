{
  "nbformat": 4,
  "nbformat_minor": 0,
  "metadata": {
    "colab": {
      "name": "Kaggle: Acea Smart Water Analytics.ipynb",
      "provenance": [],
      "collapsed_sections": [],
      "authorship_tag": "ABX9TyP7E5iyK8JuNBsHc2wJhNNK",
      "include_colab_link": true
    },
    "kernelspec": {
      "name": "python3",
      "display_name": "Python 3"
    }
  },
  "cells": [
    {
      "cell_type": "markdown",
      "metadata": {
        "id": "view-in-github",
        "colab_type": "text"
      },
      "source": [
        "<a href=\"https://colab.research.google.com/github/pauloeddias/Kaggle-Acea-Smart-Water-Analytics/blob/master/Kaggle_Acea_Smart_Water_Analytics.ipynb\" target=\"_parent\"><img src=\"https://colab.research.google.com/assets/colab-badge.svg\" alt=\"Open In Colab\"/></a>"
      ]
    },
    {
      "cell_type": "code",
      "metadata": {
        "id": "g2VB2hX05s6t"
      },
      "source": [
        "import pandas as pd\r\n",
        "def read_data(file):\r\n",
        "  data_prefix = 'https://raw.githubusercontent.com/pauloeddias/Kaggle-Acea-Smart-Water-Analytics/master/data/'\r\n",
        "  return pd.read_csv(data_prefix+file,error_bad_lines=False)"
      ],
      "execution_count": 5,
      "outputs": []
    },
    {
      "cell_type": "code",
      "metadata": {
        "id": "1nVRMxam2x8C"
      },
      "source": [
        "Aquifer_Auser = read_data('Aquifer_Auser.csv')\r\n",
        "Aquifer_Doganella = read_data('Aquifer_Doganella.csv')\r\n",
        "Aquifer_Luco = read_data('Aquifer_Luco.csv')\r\n",
        "Aquifer_Petrignano = read_data('Aquifer_Petrignano.csv')\r\n",
        "Lake_Bilancino = read_data('Lake_Bilancino.csv')\r\n",
        "River_Arno = read_data('River_Arno.csv')\r\n",
        "Water_Spring_Amiata = read_data('Water_Spring_Amiata.csv')\r\n",
        "Water_Spring_Lupa = read_data('Water_Spring_Lupa.csv')\r\n",
        "Water_Spring_Madonna_di_Canneto = read_data('Water_Spring_Madonna_di_Canneto.csv')"
      ],
      "execution_count": 6,
      "outputs": []
    }
  ]
}